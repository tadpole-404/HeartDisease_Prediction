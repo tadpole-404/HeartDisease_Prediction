{
 "cells": [
  {
   "cell_type": "code",
   "execution_count": 1,
   "metadata": {},
   "outputs": [
    {
     "data": {
      "text/plain": [
       "'\\nthe codebase originally has multiple files ,which has been converted into a single .ipynb file for the purpose of submission of the final project\\nthe original codebase looked something like this \\ntrain.py\\ninfer.py\\nutils_.py\\nperformance_metrics.py\\nheartDisease.csv\\n\\nthe original version is available at https://github.com/tadpole-404/HeartDisease_Prediction\\nwhich is our remote git repository, the code is written and owned by us.\\n'"
      ]
     },
     "execution_count": 1,
     "metadata": {},
     "output_type": "execute_result"
    }
   ],
   "source": [
    "'''\n",
    "the codebase originally has multiple files ,which has been converted into a single .ipynb file for the purpose of submission of the final project\n",
    "the original codebase looked something like this \n",
    "train.py\n",
    "infer.py\n",
    "utils_.py\n",
    "performance_metrics.py\n",
    "heartDisease.csv\n",
    "\n",
    "the original version is available at https://github.com/tadpole-404/HeartDisease_Prediction\n",
    "which is our remote git repository, the code is written and owned by us.\n",
    "'''"
   ]
  },
  {
   "cell_type": "code",
   "execution_count": 2,
   "metadata": {},
   "outputs": [],
   "source": [
    "# this is the utlis_ used in train and test script\n",
    "import pandas as pd\n",
    "import numpy as np\n",
    "\n",
    "def read_data(path,features):\n",
    "    ''' \n",
    "    reads the csv file and returns the data as pandas datafield\n",
    "    '''\n",
    "    data=pd.read_csv(path)\n",
    "    df=pd.DataFrame(data)\n",
    "\n",
    "    return preprocess_input(df,features)\n",
    "   \n",
    "   \n",
    "def preprocess_input(df,features):\n",
    "    ''' \n",
    "    this function is meant to preprocess csv , converting strings to numbers \n",
    "    \n",
    "    params :\n",
    "    df :datafield \n",
    "    features: list of features to be preprocessed\n",
    "    \n",
    "    returns \n",
    "    processed datafield\n",
    "    \n",
    "    '''\n",
    "    for feature in features:\n",
    "        values=df[feature].unique()\n",
    "        for i,value in enumerate(values):\n",
    "            df[feature]=[i if element==value else element for element in df[feature]]\n",
    "    return df\n",
    "\n",
    "def normalize(df,features):\n",
    "    ''' \n",
    "    used to normalize inputs by making mean=0 and standard deviation=1\n",
    "    \n",
    "    params\n",
    "    df: input as pandas datafield\n",
    "    features: list of keys of features to be normalized\n",
    "    \n",
    "    returns\n",
    "    df: datafield after normalisation \n",
    "    mean: dictionary containing mean of features normalised\n",
    "    std: dictionary containing standard deviation of features normalised    \n",
    "    \n",
    "    '''\n",
    "    \n",
    "    mean={feature:0. for feature in features}\n",
    "    std={feature:0. for feature in features}\n",
    "    for feature in features:\n",
    "        mean[feature]=np.mean(df[feature])\n",
    "        std[feature]=np.std(df[feature])\n",
    "        df[feature]=(df[feature]-mean[feature])/std[feature]\n",
    "    \n",
    "    return df,mean,std\n",
    "\n",
    "def normalize_with_mean_std(df,features,mean,std):\n",
    "    '''\n",
    "    this function normalises the given features to given mean and standard deviation\n",
    "    \n",
    "    params\n",
    "    df: input as pandas datafield\n",
    "    features: list of keys of features to be normalized\n",
    "    mean: dictionary containing mean of features normalised\n",
    "    std: dictionary containing standard deviation of features normalised    \n",
    "    \n",
    "    returns\n",
    "    df: datafield after normalisation \n",
    "    \n",
    "    '''\n",
    "    for feature in features:\n",
    "        mean[feature]=np.mean(df[feature])\n",
    "        std[feature]=np.std(df[feature])\n",
    "        df[feature]=(df[feature]-mean[feature])/std[feature]\n",
    "    \n",
    "    return df\n",
    "    \n",
    "def forward_prop(W,X,b):\n",
    "    return 1/(1+np.exp(-(np.dot(W,X)+b))),np.exp(-(np.dot(W,X)+b))\n",
    "\n",
    "# binary cross entropy loss\n",
    "def loss(y,y_hat,batch):\n",
    "\n",
    "    return np.sum(-y*np.log(y_hat)-(1-y)*np.log(1-y_hat))/batch\n",
    "\n",
    "def gradients(X,Y,Y_hat,exp):\n",
    "    dW=[]\n",
    "    for i in range(X.shape[0]):\n",
    "        grad=(Y_hat-Y)*X/X.shape[1]\n",
    "        grad=np.sum(grad)\n",
    "        dW.append(grad)\n",
    "    db=(Y_hat-Y)/X.shape[1]\n",
    "    db=np.sum(db)\n",
    "    \n",
    "    return dW,db\n",
    "\n",
    "def update(dW,db,W,b,alpha):\n",
    "    for i in range(W.shape[0]):\n",
    "        W[i]=W[i]-alpha*dW[i]\n",
    "    b=b-alpha*db\n",
    "    return W,b\n",
    "    "
   ]
  },
  {
   "cell_type": "code",
   "execution_count": 3,
   "metadata": {},
   "outputs": [
    {
     "name": "stdout",
     "output_type": "stream",
     "text": [
      "saved mean!!\n",
      "saved std\n"
     ]
    },
    {
     "name": "stderr",
     "output_type": "stream",
     "text": [
      "  5%|▍         | 228/5000 [00:00<00:02, 2267.43iteration/s]"
     ]
    },
    {
     "name": "stdout",
     "output_type": "stream",
     "text": [
      "0\n",
      "loss is :0.46283054542495383\n",
      "saved weights\n",
      "0\n",
      "loss is :0.4583722168002229\n",
      "0\n",
      "loss is :0.4554125526529553\n",
      "saved weights\n",
      "0\n",
      "loss is :0.45423694037510254\n",
      "0\n",
      "loss is :0.4532368264626299\n",
      "saved weights\n",
      "0\n",
      "loss is :0.4527738443231898\n",
      "0\n",
      "loss is :0.45234601831835597\n",
      "saved weights\n",
      "0\n",
      "loss is :0.45213683407565647\n",
      "0\n",
      "loss is :0.45193718764345026\n",
      "saved weights\n"
     ]
    },
    {
     "name": "stderr",
     "output_type": "stream",
     "text": [
      "  9%|▉         | 462/5000 [00:00<00:01, 2306.62iteration/s]"
     ]
    },
    {
     "name": "stdout",
     "output_type": "stream",
     "text": [
      "0\n",
      "loss is :0.4518373457990471\n"
     ]
    },
    {
     "name": "stderr",
     "output_type": "stream",
     "text": [
      " 15%|█▌        | 772/5000 [00:00<00:01, 2667.22iteration/s]"
     ]
    },
    {
     "name": "stdout",
     "output_type": "stream",
     "text": [
      "0\n",
      "loss is :0.45174070489256213\n",
      "saved weights\n",
      "0\n",
      "loss is :0.45169188187637577\n",
      "0\n",
      "loss is :0.45164431358276413\n",
      "saved weights\n",
      "0\n",
      "loss is :0.45162016609316735\n",
      "0\n",
      "loss is :0.4515965648226208\n",
      "saved weights\n",
      "0\n",
      "loss is :0.4515845558192199\n",
      "0\n",
      "loss is :0.45157280027330027\n",
      "saved weights\n",
      "0\n",
      "loss is :0.45156681180171354\n",
      "0\n",
      "loss is :0.4515609452233406\n",
      "saved weights\n",
      "0\n",
      "loss is :0.4515579549758354\n",
      "0\n",
      "loss is :0.4515550244756361\n",
      "saved weights\n",
      "0\n",
      "loss is :0.45155353034656065\n"
     ]
    },
    {
     "name": "stderr",
     "output_type": "stream",
     "text": [
      " 22%|██▏       | 1080/5000 [00:00<00:01, 2826.31iteration/s]"
     ]
    },
    {
     "name": "stdout",
     "output_type": "stream",
     "text": [
      "0\n",
      "loss is :0.4515520657925042\n",
      "saved weights\n"
     ]
    },
    {
     "name": "stderr",
     "output_type": "stream",
     "text": [
      " 34%|███▍      | 1700/5000 [00:00<00:01, 2983.94iteration/s]"
     ]
    },
    {
     "name": "stdout",
     "output_type": "stream",
     "text": [
      "0\n",
      "loss is :0.4515513189763369\n",
      "0\n",
      "loss is :0.45155058687316924\n",
      "saved weights\n",
      "0\n",
      "loss is :0.451550213527141\n",
      "0\n",
      "loss is :0.45154984751900346\n",
      "saved weights\n",
      "0\n",
      "loss is :0.4515496608614985\n",
      "0\n",
      "loss is :0.4515494778682891\n",
      "saved weights\n",
      "0\n",
      "loss is :0.4515493845434133\n",
      "0\n",
      "loss is :0.45154929304952307\n",
      "saved weights\n",
      "0\n",
      "loss is :0.4515492463880542\n",
      "0\n",
      "loss is :0.45154920064178783\n",
      "saved weights\n",
      "0\n",
      "loss is :0.4515491773112956\n",
      "0\n",
      "loss is :0.45154915443833205\n",
      "saved weights\n",
      "0\n",
      "loss is :0.4515491427731465\n"
     ]
    },
    {
     "name": "stderr",
     "output_type": "stream",
     "text": [
      " 46%|████▋     | 2316/5000 [00:00<00:00, 3030.42iteration/s]"
     ]
    },
    {
     "name": "stdout",
     "output_type": "stream",
     "text": [
      "0\n",
      "loss is :0.45154913133670715\n",
      "saved weights\n",
      "0\n",
      "loss is :0.4515491255041295\n",
      "0\n",
      "loss is :0.4515491197859204\n",
      "saved weights\n",
      "0\n",
      "loss is :0.4515491168696351\n",
      "0\n",
      "loss is :0.4515491140105329\n",
      "saved weights\n",
      "0\n",
      "loss is :0.4515491125523916\n",
      "0\n",
      "loss is :0.4515491111228417\n",
      "saved weights\n",
      "0\n",
      "loss is :0.45154911039377066\n",
      "0\n",
      "loss is :0.45154910967899514\n",
      "saved weights\n",
      "0\n",
      "loss is :0.45154910931445996\n",
      "0\n",
      "loss is :0.45154910895707245\n",
      "saved weights\n",
      "0\n",
      "loss is :0.45154910877480514\n"
     ]
    },
    {
     "name": "stderr",
     "output_type": "stream",
     "text": [
      " 52%|█████▏    | 2620/5000 [00:00<00:00, 2881.33iteration/s]"
     ]
    },
    {
     "name": "stdout",
     "output_type": "stream",
     "text": [
      "0\n",
      "loss is :0.45154910859611175\n",
      "saved weights\n",
      "0\n",
      "loss is :0.451549108504978\n",
      "0\n",
      "loss is :0.4515491084156311\n",
      "saved weights\n",
      "0\n",
      "loss is :0.45154910837006446\n",
      "0\n",
      "loss is :0.4515491083253912\n",
      "saved weights\n",
      "0\n",
      "loss is :0.4515491083026074\n",
      "0\n",
      "loss is :0.4515491082802705\n",
      "saved weights\n",
      "0\n",
      "loss is :0.4515491082688789\n",
      "0\n",
      "loss is :0.4515491082577106\n",
      "saved weights\n",
      "0\n",
      "loss is :0.45154910825201416\n"
     ]
    },
    {
     "name": "stderr",
     "output_type": "stream",
     "text": [
      " 58%|█████▊    | 2910/5000 [00:01<00:00, 2746.36iteration/s]"
     ]
    },
    {
     "name": "stdout",
     "output_type": "stream",
     "text": [
      "0\n",
      "loss is :0.4515491082464295\n",
      "saved weights\n"
     ]
    },
    {
     "name": "stderr",
     "output_type": "stream",
     "text": [
      " 64%|██████▍   | 3205/5000 [00:01<00:00, 2802.64iteration/s]"
     ]
    },
    {
     "name": "stdout",
     "output_type": "stream",
     "text": [
      "0\n",
      "loss is :0.45154910824358196\n",
      "0\n",
      "loss is :0.45154910824079025\n",
      "saved weights\n",
      "0\n",
      "loss is :0.4515491082393661\n",
      "0\n",
      "loss is :0.4515491082379699\n",
      "saved weights\n",
      "0\n",
      "loss is :0.4515491082372584\n",
      "0\n",
      "loss is :0.45154910823656086\n",
      "saved weights\n",
      "0\n",
      "loss is :0.45154910823620437\n",
      "0\n",
      "loss is :0.4515491082358548\n",
      "saved weights\n",
      "0\n",
      "loss is :0.45154910823567646\n",
      "0\n",
      "loss is :0.45154910823550154\n",
      "saved weights\n",
      "0\n",
      "loss is :0.4515491082354131\n",
      "0\n",
      "loss is :0.45154910823532646\n",
      "saved weights\n"
     ]
    },
    {
     "name": "stderr",
     "output_type": "stream",
     "text": [
      " 70%|███████   | 3514/5000 [00:01<00:00, 2884.20iteration/s]"
     ]
    },
    {
     "name": "stdout",
     "output_type": "stream",
     "text": [
      "0\n",
      "loss is :0.45154910823528177\n"
     ]
    },
    {
     "name": "stderr",
     "output_type": "stream",
     "text": [
      " 83%|████████▎ | 4133/5000 [00:01<00:00, 2988.06iteration/s]"
     ]
    },
    {
     "name": "stdout",
     "output_type": "stream",
     "text": [
      "0\n",
      "loss is :0.4515491082352381\n",
      "saved weights\n",
      "0\n",
      "loss is :0.45154910823521593\n",
      "0\n",
      "loss is :0.45154910823519445\n",
      "saved weights\n",
      "0\n",
      "loss is :0.4515491082351836\n",
      "0\n",
      "loss is :0.45154910823517325\n",
      "saved weights\n",
      "0\n",
      "loss is :0.4515491082351675\n",
      "0\n",
      "loss is :0.45154910823516176\n",
      "saved weights\n",
      "0\n",
      "loss is :0.4515491082351589\n",
      "0\n",
      "loss is :0.4515491082351561\n",
      "saved weights\n",
      "0\n",
      "loss is :0.4515491082351549\n",
      "0\n",
      "loss is :0.45154910823515365\n",
      "saved weights\n",
      "0\n",
      "loss is :0.45154910823515254\n",
      "0\n",
      "loss is :0.45154910823515143\n",
      "saved weights\n"
     ]
    },
    {
     "name": "stderr",
     "output_type": "stream",
     "text": [
      " 95%|█████████▍| 4745/5000 [00:01<00:00, 3021.57iteration/s]"
     ]
    },
    {
     "name": "stdout",
     "output_type": "stream",
     "text": [
      "0\n",
      "loss is :0.45154910823515104\n",
      "0\n",
      "loss is :0.4515491082351506\n",
      "saved weights\n",
      "0\n",
      "loss is :0.4515491082351506\n",
      "0\n",
      "loss is :0.45154910823515076\n",
      "saved weights\n",
      "0\n",
      "loss is :0.4515491082351506\n",
      "0\n",
      "loss is :0.4515491082351506\n",
      "saved weights\n",
      "0\n",
      "loss is :0.45154910823515054\n",
      "0\n",
      "loss is :0.45154910823515054\n",
      "saved weights\n",
      "0\n",
      "loss is :0.45154910823515054\n",
      "0\n",
      "loss is :0.45154910823515054\n",
      "saved weights\n",
      "0\n",
      "loss is :0.45154910823515054\n",
      "0\n",
      "loss is :0.45154910823515054\n",
      "saved weights\n",
      "0\n",
      "loss is :0.45154910823515054\n"
     ]
    },
    {
     "name": "stderr",
     "output_type": "stream",
     "text": [
      "100%|██████████| 5000/5000 [00:01<00:00, 2905.02iteration/s]"
     ]
    },
    {
     "name": "stdout",
     "output_type": "stream",
     "text": [
      "0\n",
      "loss is :0.45154910823515054\n",
      "saved weights\n",
      "0\n",
      "loss is :0.45154910823515054\n",
      "[[0 0 0 0 0 0 1 0 0 0 0 0 0 0 0 0 0 1 0 0 1 0 0 0 0 0 0 0 0 0 0 0 0 1 0 0\n",
      "  0 0 0 0 0 0 0 0 0 0 0 0 0 0 0 0 0 0 0 0 0 0 0 0 0 0 1 1 0 0 0 1 0 0 0 0\n",
      "  0 0 0 0 0 0 0 0 0 1 0 1 0 0 0 0 1 1 0 0 0 0 0 0 0 0 0 0 0 0 0 0 0 0 0 0\n",
      "  0 0 0 0 0 0 0 0 0 0 0 0 0 0 0 0 0 0 0 1 0 0 0 0 0 0 0 1 0 0 0 0 1 0 0 0\n",
      "  0 0 0 0 0 0 0 0 0 0 0 0 0 0 1 0 0 0 0 0 0 0 0 0 0 0 0 0 0 0 0 0 0 0 0 0\n",
      "  0 0 0 0 0 0 0 0 0 0 0 0 0 0 0 0 0 0 1 1 0 0 0 0 0 0 0 0 0 0 0 0 0 0 0 0\n",
      "  0 0 1 0 0 0 0 0 0 0 0 0 0 0 0 0 0 0 0 0 0 0 0 0 0 0 0 0 0 0 0 0 0 0 0 0\n",
      "  0 0 0 0 0 0 0 0 0 0 0 0 0 0 0 0 0 0 0 0 0 0 0 0 0 0 0 0 0 0 0 0 0 0 0 0\n",
      "  1 0 0 0 0 0 0 0 0 0 0 0 0 0 0 0 0 0 0 0 0 0 0 0 0 0 0 0 0 0 0 0 0 1 0 1\n",
      "  0 1 0 0 0 0 1 0 0 0 0 0 0 0 0 0 0 0 0 0 0 0 0 0 0 0 0 0 0 0 0 0 0 0 0 1\n",
      "  0 0 0 1 0 0 0 0 0 0 0 0 0 0 0 0 0 0 0 0 0 0 0 0 0 0 0 1 0 0 0 0 0 0 0 1\n",
      "  0 0 0 0 0 0 0 0 0 0 0 0 0 0 0 0 0 0 0 0 0 0 0 0 0 0 0 0 0 0 0 0 0 0 0 1\n",
      "  0 0 0 1 0 0 0 0 0 0 0 0 0 0 0 0 0 0 0 0 0 0 0 0 0 0 0 0 0 0 0 0 1 0 0 0\n",
      "  0 0 1 0 1 0 0 0 0 0 0 0 0 1]]\n",
      "[[1. 0. 0. 0. 0. 0. 0. 0. 0. 0. 0. 0. 0. 0. 0. 0. 0. 0. 0. 0. 0. 0. 1. 0.\n",
      "  0. 0. 0. 0. 0. 0. 0. 0. 0. 0. 0. 0. 0. 1. 0. 0. 0. 0. 0. 0. 1. 0. 0. 0.\n",
      "  1. 0. 0. 0. 0. 0. 0. 1. 1. 1. 0. 0. 0. 0. 0. 0. 0. 0. 0. 1. 0. 0. 0. 0.\n",
      "  0. 0. 0. 0. 0. 0. 0. 0. 0. 1. 0. 0. 0. 0. 0. 0. 0. 0. 0. 0. 1. 0. 0. 0.\n",
      "  0. 0. 0. 0. 1. 0. 0. 0. 0. 0. 0. 0. 0. 0. 0. 0. 0. 0. 0. 0. 0. 0. 0. 0.\n",
      "  0. 0. 0. 0. 0. 0. 0. 0. 0. 0. 0. 0. 0. 1. 0. 0. 0. 0. 0. 1. 0. 0. 0. 0.\n",
      "  0. 0. 0. 0. 0. 0. 0. 0. 0. 0. 0. 0. 0. 0. 0. 0. 0. 1. 0. 0. 0. 0. 0. 0.\n",
      "  0. 0. 0. 0. 0. 0. 0. 0. 1. 1. 0. 0. 0. 0. 0. 0. 0. 0. 0. 0. 0. 0. 0. 0.\n",
      "  0. 0. 1. 0. 0. 0. 0. 0. 1. 0. 0. 0. 0. 1. 0. 0. 0. 0. 0. 0. 0. 0. 0. 0.\n",
      "  0. 0. 0. 0. 0. 0. 0. 0. 0. 1. 0. 1. 0. 0. 0. 0. 0. 0. 0. 0. 0. 0. 0. 0.\n",
      "  0. 0. 0. 0. 0. 0. 0. 0. 0. 0. 0. 1. 0. 0. 0. 0. 0. 1. 0. 0. 1. 0. 0. 0.\n",
      "  0. 0. 1. 0. 0. 0. 0. 0. 0. 1. 0. 0. 0. 0. 0. 0. 0. 0. 1. 0. 0. 1. 0. 0.\n",
      "  0. 0. 0. 0. 0. 0. 0. 0. 0. 1. 0. 0. 0. 1. 1. 0. 1. 0. 0. 0. 0. 0. 0. 0.\n",
      "  0. 0. 0. 0. 0. 0. 0. 0. 0. 1. 0. 0. 0. 0. 0. 0. 0. 0. 0. 0. 0. 0. 0. 0.\n",
      "  0. 0. 0. 0. 0. 0. 0. 0. 0. 0. 1. 0. 0. 0. 0. 0. 0. 0. 0. 0. 0. 1. 0. 0.\n",
      "  0. 0. 0. 0. 0. 1. 0. 0. 0. 0. 0. 1. 0. 0. 0. 0. 0. 0. 1. 0. 0. 0. 1. 1.\n",
      "  0. 0. 0. 0. 0. 0. 0. 1. 1. 0. 1. 0. 0. 0. 0. 0. 0. 0. 0. 0. 0. 1. 0. 0.\n",
      "  1. 0. 0. 0. 0. 0. 0. 0. 0. 0. 0. 0. 0. 0. 0. 0. 0. 0. 0. 0. 1. 0. 0. 0.\n",
      "  0. 0. 0. 0. 0. 0. 0. 1. 0. 0. 0. 0. 0. 0. 0. 0. 0. 0. 0. 0. 0. 0. 0. 0.\n",
      "  1. 1. 0. 0. 0. 0. 0. 0. 0. 0. 0. 0. 0. 0. 0. 1. 0. 0. 0. 0. 0. 0. 0. 0.\n",
      "  0. 0.]]\n"
     ]
    },
    {
     "name": "stderr",
     "output_type": "stream",
     "text": [
      "\n"
     ]
    }
   ],
   "source": [
    "#this is the train script\n",
    "\n",
    "import utlis_ as u\n",
    "import numpy as np\n",
    "from tqdm import tqdm\n",
    "import json\n",
    "#hyperparameters\n",
    "alpha=0.0056\n",
    "epoch=5000\n",
    "batch=482\n",
    "loss_stored=[]\n",
    "flag=1\n",
    "#reading data\n",
    "\n",
    "features_preprocess=[\"AgeCategory\",\"Race\",\"GenHealth\",\"HeartDisease\",'Smoking','AlcoholDrinking','Stroke','DiffWalking','Sex','AgeCategory','Race','Diabetic','PhysicalActivity','GenHealth','Asthma','KidneyDisease','SkinCancer']\n",
    "df=u.read_data('heartDisease.csv',features_preprocess)\n",
    "features_normalise=[\"BMI\",\"SleepTime\",\"PhysicalHealth\",\"MentalHealth\",\"AgeCategory\",\"Race\",\"GenHealth\"]\n",
    "df,mean,std=u.normalize(df,features_normalise)\n",
    "\n",
    "with open('mean.json', 'w') as json_file:\n",
    "    json.dump(mean, json_file)\n",
    "    print('saved mean!!')\n",
    "with open('std.json', 'w') as json_file:\n",
    "    json.dump(std, json_file)\n",
    "    print('saved std')\n",
    "\n",
    "\n",
    "data=[]\n",
    "for key in df.keys():\n",
    "    if key=='HeartDisease':\n",
    "        Y=np.array(df[key])\n",
    "    else:\n",
    "        data.append(df[key])\n",
    "    \n",
    "X=np.array(data,np.float32)\n",
    "\n",
    "Y=np.reshape(Y,(1,Y.shape[0]))\n",
    "\n",
    "\n",
    "#random intialisation of weights\n",
    "# np.random.seed(42)\n",
    "if flag:\n",
    "    W=np.load('weights/W_weights epoch:0.npy')\n",
    "    b=np.load('weights/b_weights epoch:0.npy')\n",
    "    \n",
    "else:\n",
    "    \n",
    "    W=np.random.randn(1,17)\n",
    "    b=np.random.randn(1)\n",
    "# print(W.shape)\n",
    "# print(b.shape)\n",
    "for i in tqdm(range(epoch),unit='iteration'):\n",
    "    loss=0\n",
    "    for j in range(0,X.shape[1],batch):\n",
    "\n",
    "        Y_hat,exp=u.forward_prop(W,X[:,j:j+batch],b)\n",
    "\n",
    "        dW,db=u.gradients(X[:,j:j+batch],Y[:,j:j+batch],Y_hat,exp)\n",
    "        W,b=u.update(dW,db,W,b,alpha)\n",
    "        # print('done')\n",
    "        if i%50==0:\n",
    "            print(loss)\n",
    "            loss+=u.loss(Y[:,j:j+batch],Y_hat,batch)\n",
    "\n",
    "    if i%50==0:\n",
    "        print(f'loss is :{loss}')\n",
    "        loss_stored.append(loss)\n",
    "        #weight decay\n",
    "    \n",
    "    if i%100==0:\n",
    "        print('saved weights')\n",
    "        np.save(f'weights/W_weights epoch:{i}.npy',W)\n",
    "        np.save(f'weights/b_weights epoch:{i}.npy',b)\n",
    "        alpha/=2\n",
    "        \n",
    "np.save('loss.npy',np.array(loss_stored))# saved after every 50 epoch\n",
    "\n",
    "print(Y)\n",
    "pred,_=u.forward_prop(W,X,b)\n",
    "print(np.round(pred))"
   ]
  },
  {
   "cell_type": "code",
   "execution_count": 4,
   "metadata": {},
   "outputs": [],
   "source": [
    "# this is the test script \n",
    "\n",
    "\n",
    "\n",
    "import numpy as np\n",
    "import json\n",
    "import pandas as pd\n",
    "import utlis_ as u\n",
    "def infer(W_path,b_path,batch,features_preprocess,features_normalise,data_path):\n",
    "#load model\n",
    "    W=np.load(W_path)\n",
    "    b=np.load(b_path)\n",
    "    with open('mean.json') as file:\n",
    "        mean=json.load(file)\n",
    "    with open('std.json') as file:\n",
    "        std=json.load(file)\n",
    "    \n",
    "    \n",
    "    df=u.read_data(data_path,features_preprocess)\n",
    "    \n",
    "    df=u.normalize_with_mean_std(df,features_normalise,mean,std)\n",
    "    ran=np.random.randint(0,281,(batch))\n",
    "\n",
    "    try:\n",
    "        input=np.array([df.iloc[ran[i].item()] for i in range(batch)],np.float32)\n",
    "    except:\n",
    "        print(batch)\n",
    "    input=np.transpose(input,(1,0))\n",
    "    X=input[1:,:]\n",
    "    gt=input[0,:]\n",
    "\n",
    "    print(W.shape)\n",
    "    Y_prediction,_=u.forward_prop(W,X,b)\n",
    "\n",
    "    Y_prediction_round=np.round(Y_prediction)\n",
    "    return(Y_prediction_round,gt,Y_prediction)\n",
    "\n",
    "    "
   ]
  },
  {
   "cell_type": "code",
   "execution_count": 5,
   "metadata": {},
   "outputs": [],
   "source": [
    "import matplotlib.pyplot as plt\n",
    "import numpy as np\n",
    "from sklearn.metrics import confusion_matrix\n",
    "from infer import infer\n",
    "import utlis_ as u\n",
    "import seaborn as sns"
   ]
  },
  {
   "cell_type": "code",
   "execution_count": 6,
   "metadata": {},
   "outputs": [
    {
     "data": {
      "image/png": "[encoded data removed]",
      "text/plain": [
       "<Figure size 640x480 with 1 Axes>"
      ]
     },
     "metadata": {},
     "output_type": "display_data"
    }
   ],
   "source": [
    "loss=np.load('loss.npy')\n",
    "ls=[]\n",
    "for i in range(0,100):\n",
    "    ls.append(i*50)\n",
    "plt.plot(ls,loss)\n",
    "plt.title('loss vs epoch')\n",
    "plt.xlabel('epoch')\n",
    "plt.ylabel('loss')\n",
    "plt.show()"
   ]
  },
  {
   "cell_type": "code",
   "execution_count": 7,
   "metadata": {},
   "outputs": [
    {
     "name": "stdout",
     "output_type": "stream",
     "text": [
      "(1, 17)\n"
     ]
    }
   ],
   "source": [
    "W_path=\"weights/W_weights epoch:4900.npy\"\n",
    "b_path=\"weights/b_weights epoch:4900.npy\"\n",
    "features_preprocess=[\"AgeCategory\",\"Race\",\"GenHealth\",\"HeartDisease\",'Smoking','AlcoholDrinking','Stroke','DiffWalking','Sex','AgeCategory','Race','Diabetic','PhysicalActivity','GenHealth','Asthma','KidneyDisease','SkinCancer']\n",
    "features_normalise=[\"BMI\",\"SleepTime\",\"PhysicalHealth\",\"MentalHealth\",\"AgeCategory\",\"Race\",\"GenHealth\"]\n",
    "data_path='heartDisease.csv'\n",
    "batch=482\n",
    "    \n",
    "y_pred,y_true,raw_pred=infer(W_path,b_path,batch,features_preprocess,features_normalise,data_path)\n",
    "conf_matrix = confusion_matrix(np.reshape(y_true,(-1)), np.reshape(y_pred,(-1)))"
   ]
  },
  {
   "cell_type": "code",
   "execution_count": 8,
   "metadata": {},
   "outputs": [
    {
     "data": {
      "image/png": "[encoded data removed]",
      "text/plain": [
       "<Figure size 640x480 with 2 Axes>"
      ]
     },
     "metadata": {},
     "output_type": "display_data"
    }
   ],
   "source": [
    "sns.heatmap(conf_matrix, annot=True, cmap='Blues')\n",
    "plt.xlabel('Predicted Labels')\n",
    "plt.ylabel('True Labels')\n",
    "plt.title('Confusion Matrix')\n",
    "plt.show()\n"
   ]
  },
  {
   "cell_type": "code",
   "execution_count": 9,
   "metadata": {},
   "outputs": [],
   "source": [
    "Accuracy=1-np.count_nonzero(y_pred-y_true)/batch"
   ]
  },
  {
   "cell_type": "code",
   "execution_count": 10,
   "metadata": {},
   "outputs": [
    {
     "name": "stdout",
     "output_type": "stream",
     "text": [
      "0.8381742738589212\n"
     ]
    }
   ],
   "source": [
    "print(Accuracy)"
   ]
  },
  {
   "cell_type": "code",
   "execution_count": null,
   "metadata": {},
   "outputs": [],
   "source": []
  },
  {
   "cell_type": "code",
   "execution_count": null,
   "metadata": {},
   "outputs": [],
   "source": []
  }
 ],
 "metadata": {
  "kernelspec": {
   "display_name": "Python 3 (ipykernel)",
   "language": "python",
   "name": "python3"
  },
  "language_info": {
   "codemirror_mode": {
    "name": "ipython",
    "version": 3
   },
   "file_extension": ".py",
   "mimetype": "text/x-python",
   "name": "python",
   "nbconvert_exporter": "python",
   "pygments_lexer": "ipython3",
   "version": "3.10.12"
  }
 },
 "nbformat": 4,
 "nbformat_minor": 4
}
